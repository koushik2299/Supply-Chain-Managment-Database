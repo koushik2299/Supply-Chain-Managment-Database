{
 "cells": [
  {
   "cell_type": "code",
   "execution_count": 1,
   "id": "63a0f271",
   "metadata": {},
   "outputs": [],
   "source": [
    "import pandas as pd\n",
    "import numpy as np\n",
    "import mysql.connector\n",
    "import matplotlib.pyplot as plt\n",
    "import seaborn as sns"
   ]
  },
  {
   "cell_type": "code",
   "execution_count": 2,
   "id": "e50d83b7",
   "metadata": {},
   "outputs": [],
   "source": [
    "dma_supplychain1 = mysql.connector.connect(\n",
    "  host=\"localhost\",\n",
    "  user=\"root\",\n",
    "  password=\"Aki\",\n",
    "  database=\"dma_supplychain\"\n",
    ")"
   ]
  },
  {
   "cell_type": "code",
   "execution_count": 3,
   "id": "790d0127",
   "metadata": {},
   "outputs": [],
   "source": [
    "dma_supplychain_df1 = dma_supplychain1.cursor()\n",
    "dma_supplychain_df1.execute(\"select pid, sum(sale_amount) as sales, sum(profit) as profit from saleitems group by pid order by sales desc limit 10;\")\n",
    "sales = dma_supplychain_df1.fetchall()\n",
    "Sales_df = pd.DataFrame(sales, columns=dma_supplychain_df1.column_names)"
   ]
  },
  {
   "cell_type": "code",
   "execution_count": null,
   "id": "a026a2c6",
   "metadata": {},
   "outputs": [],
   "source": []
  },
  {
   "cell_type": "code",
   "execution_count": null,
   "id": "8cfbca8e",
   "metadata": {},
   "outputs": [],
   "source": []
  },
  {
   "cell_type": "code",
   "execution_count": 4,
   "id": "cab19a46",
   "metadata": {},
   "outputs": [
    {
     "data": {
      "image/png": "[encoded data removed]",
      "text/plain": [
       "<Figure size 432x288 with 1 Axes>"
      ]
     },
     "metadata": {
      "needs_background": "light"
     },
     "output_type": "display_data"
    }
   ],
   "source": [
    "sns.barplot(x='pid', y='sales', data=Sales_df)\n",
    "\n",
    "# Add labels and title to the plot\n",
    "plt.xlabel('PID')\n",
    "plt.ylabel('Sales')\n",
    "plt.title('Top 10 Sales')\n",
    "\n",
    "# Show the plot\n",
    "plt.show()"
   ]
  },
  {
   "cell_type": "code",
   "execution_count": 5,
   "id": "7f8aef02",
   "metadata": {},
   "outputs": [],
   "source": [
    "dma_supplychain2 = mysql.connector.connect(\n",
    "  host=\"localhost\",\n",
    "  user=\"root\",\n",
    "  password=\"Aki\",\n",
    "  database=\"dma_supplychain\"\n",
    ")"
   ]
  },
  {
   "cell_type": "code",
   "execution_count": 6,
   "id": "6a3bb70f",
   "metadata": {},
   "outputs": [],
   "source": [
    "dma_supplychain_df2 = dma_supplychain2.cursor()\n",
    "dma_supplychain_df2.execute(\"with custumer_order_count as (select cid, count(oid) as total_count, order_date from orders group by order_date ) select cid, total_count, order_date from custumer_order_count order by 2 desc limit 10;\")\n",
    "customers = dma_supplychain_df2.fetchall()\n",
    "customers_df = pd.DataFrame(customers, columns=dma_supplychain_df2.column_names)"
   ]
  },
  {
   "cell_type": "code",
   "execution_count": null,
   "id": "d8b9e784",
   "metadata": {},
   "outputs": [],
   "source": []
  },
  {
   "cell_type": "code",
   "execution_count": 7,
   "id": "686e0aa7",
   "metadata": {},
   "outputs": [
    {
     "data": {
      "text/plain": [
       "Text(0.5, 1.0, 'Top 10 Customer Purchases')"
      ]
     },
     "execution_count": 7,
     "metadata": {},
     "output_type": "execute_result"
    },
    {
     "data": {
      "image/png": "[encoded data removed]",
      "text/plain": [
       "<Figure size 432x288 with 1 Axes>"
      ]
     },
     "metadata": {
      "needs_background": "light"
     },
     "output_type": "display_data"
    }
   ],
   "source": [
    "# Create the line plot using Seaborn\n",
    "sns.lineplot(x='order_date', y='total_count', data=customers_df)\n",
    "\n",
    "# Add labels and title to the plot\n",
    "plt.xlabel('Customer ID')\n",
    "plt.ylabel('Count')\n",
    "plt.title('Top 10 Customer Purchases')"
   ]
  },
  {
   "cell_type": "code",
   "execution_count": 8,
   "id": "5a4f9bb1",
   "metadata": {},
   "outputs": [],
   "source": [
    "dma_supplychain3 = mysql.connector.connect(\n",
    "  host=\"localhost\",\n",
    "  user=\"root\",\n",
    "  password=\"Aki\",\n",
    "  database=\"dma_supplychain\"\n",
    ")"
   ]
  },
  {
   "cell_type": "code",
   "execution_count": 9,
   "id": "80bf84a6",
   "metadata": {},
   "outputs": [],
   "source": [
    "dma_supplychain_df3 = dma_supplychain3.cursor()\n",
    "dma_supplychain_df3.execute(\"select IID, stock_level from inventory where IID in (select IID from inventory i where 15 > (select count(*) from inventory ii where i.stock_level < ii.stock_level)order by IID);\")\n",
    "stock = dma_supplychain_df3.fetchall()\n",
    "stock_df = pd.DataFrame(stock, columns=dma_supplychain_df3.column_names)"
   ]
  },
  {
   "cell_type": "code",
   "execution_count": 10,
   "id": "3c4e949e",
   "metadata": {},
   "outputs": [
    {
     "data": {
      "text/html": [
       "<div>\n",
       "<style scoped>\n",
       "    .dataframe tbody tr th:only-of-type {\n",
       "        vertical-align: middle;\n",
       "    }\n",
       "\n",
       "    .dataframe tbody tr th {\n",
       "        vertical-align: top;\n",
       "    }\n",
       "\n",
       "    .dataframe thead th {\n",
       "        text-align: right;\n",
       "    }\n",
       "</style>\n",
       "<table border=\"1\" class=\"dataframe\">\n",
       "  <thead>\n",
       "    <tr style=\"text-align: right;\">\n",
       "      <th></th>\n",
       "      <th>IID</th>\n",
       "      <th>stock_level</th>\n",
       "    </tr>\n",
       "  </thead>\n",
       "  <tbody>\n",
       "    <tr>\n",
       "      <th>0</th>\n",
       "      <td>49</td>\n",
       "      <td>997</td>\n",
       "    </tr>\n",
       "    <tr>\n",
       "      <th>1</th>\n",
       "      <td>76</td>\n",
       "      <td>998</td>\n",
       "    </tr>\n",
       "    <tr>\n",
       "      <th>2</th>\n",
       "      <td>165</td>\n",
       "      <td>994</td>\n",
       "    </tr>\n",
       "    <tr>\n",
       "      <th>3</th>\n",
       "      <td>249</td>\n",
       "      <td>989</td>\n",
       "    </tr>\n",
       "    <tr>\n",
       "      <th>4</th>\n",
       "      <td>252</td>\n",
       "      <td>998</td>\n",
       "    </tr>\n",
       "    <tr>\n",
       "      <th>5</th>\n",
       "      <td>308</td>\n",
       "      <td>991</td>\n",
       "    </tr>\n",
       "    <tr>\n",
       "      <th>6</th>\n",
       "      <td>338</td>\n",
       "      <td>995</td>\n",
       "    </tr>\n",
       "    <tr>\n",
       "      <th>7</th>\n",
       "      <td>342</td>\n",
       "      <td>997</td>\n",
       "    </tr>\n",
       "    <tr>\n",
       "      <th>8</th>\n",
       "      <td>432</td>\n",
       "      <td>988</td>\n",
       "    </tr>\n",
       "    <tr>\n",
       "      <th>9</th>\n",
       "      <td>465</td>\n",
       "      <td>992</td>\n",
       "    </tr>\n",
       "    <tr>\n",
       "      <th>10</th>\n",
       "      <td>769</td>\n",
       "      <td>995</td>\n",
       "    </tr>\n",
       "    <tr>\n",
       "      <th>11</th>\n",
       "      <td>808</td>\n",
       "      <td>991</td>\n",
       "    </tr>\n",
       "    <tr>\n",
       "      <th>12</th>\n",
       "      <td>908</td>\n",
       "      <td>989</td>\n",
       "    </tr>\n",
       "    <tr>\n",
       "      <th>13</th>\n",
       "      <td>946</td>\n",
       "      <td>992</td>\n",
       "    </tr>\n",
       "    <tr>\n",
       "      <th>14</th>\n",
       "      <td>959</td>\n",
       "      <td>998</td>\n",
       "    </tr>\n",
       "  </tbody>\n",
       "</table>\n",
       "</div>"
      ],
      "text/plain": [
       "    IID  stock_level\n",
       "0    49          997\n",
       "1    76          998\n",
       "2   165          994\n",
       "3   249          989\n",
       "4   252          998\n",
       "5   308          991\n",
       "6   338          995\n",
       "7   342          997\n",
       "8   432          988\n",
       "9   465          992\n",
       "10  769          995\n",
       "11  808          991\n",
       "12  908          989\n",
       "13  946          992\n",
       "14  959          998"
      ]
     },
     "execution_count": 10,
     "metadata": {},
     "output_type": "execute_result"
    }
   ],
   "source": [
    "stock_df"
   ]
  },
  {
   "cell_type": "code",
   "execution_count": 26,
   "id": "f5df1834",
   "metadata": {},
   "outputs": [],
   "source": [
    "stock_df=stock_df.sort_values('stock_level')"
   ]
  },
  {
   "cell_type": "code",
   "execution_count": 31,
   "id": "664458e1",
   "metadata": {},
   "outputs": [
    {
     "data": {
      "image/png": "[encoded data removed]",
      "text/plain": [
       "<Figure size 432x288 with 1 Axes>"
      ]
     },
     "metadata": {
      "needs_background": "light"
     },
     "output_type": "display_data"
    }
   ],
   "source": [
    "# sns.lineplot(x='IID', y='stock_level', data=stock_df, color='skyblue', alpha=0.5)\n",
    "# sns.fill_between(x='IID', y1=0, y2=stock_df['stock_level'], color='skyblue', alpha=0.3)\n",
    "\n",
    "# Create the scatter plot using Seaborn\n",
    "sns.regplot(x='IID', y='stock_level', data=stock_df, color='red')\n",
    "\n",
    "# Add labels and title to the plot\n",
    "plt.xlabel('IID')\n",
    "plt.ylabel('stock_level')\n",
    "plt.title('Top Stocked Items')\n",
    "\n",
    "# Show the plot\n",
    "plt.show()"
   ]
  },
  {
   "cell_type": "code",
   "execution_count": null,
   "id": "cfd6eaf7",
   "metadata": {},
   "outputs": [],
   "source": []
  },
  {
   "cell_type": "code",
   "execution_count": null,
   "id": "56a36d09",
   "metadata": {},
   "outputs": [],
   "source": []
  },
  {
   "cell_type": "code",
   "execution_count": null,
   "id": "1f368edd",
   "metadata": {},
   "outputs": [],
   "source": []
  },
  {
   "cell_type": "code",
   "execution_count": null,
   "id": "a78756fc",
   "metadata": {},
   "outputs": [],
   "source": []
  }
 ],
 "metadata": {
  "kernelspec": {
   "display_name": "Python 3 (ipykernel)",
   "language": "python",
   "name": "python3"
  },
  "language_info": {
   "codemirror_mode": {
    "name": "ipython",
    "version": 3
   },
   "file_extension": ".py",
   "mimetype": "text/x-python",
   "name": "python",
   "nbconvert_exporter": "python",
   "pygments_lexer": "ipython3",
   "version": "3.9.12"
  }
 },
 "nbformat": 4,
 "nbformat_minor": 5
}
